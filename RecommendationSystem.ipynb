{
  "nbformat": 4,
  "nbformat_minor": 0,
  "metadata": {
    "colab": {
      "provenance": []
    },
    "kernelspec": {
      "name": "python3",
      "display_name": "Python 3"
    },
    "language_info": {
      "name": "python"
    }
  },
  "cells": [
    {
      "cell_type": "code",
      "execution_count": 34,
      "metadata": {
        "id": "NHkjWGcFpWQj"
      },
      "outputs": [],
      "source": [
        "import pandas as pd\n",
        "from math import sqrt\n",
        "import numpy as np"
      ]
    },
    {
      "cell_type": "code",
      "source": [
        "books_df = pd.read_csv('Books.csv')\n",
        "ratings_df = pd.read_csv('Ratings.csv')\n",
        "books_df.head()\n",
        "ratings_df.head()"
      ],
      "metadata": {
        "colab": {
          "base_uri": "https://localhost:8080/",
          "height": 241
        },
        "id": "B8nVa1WYpX-0",
        "outputId": "9a6ab158-25b1-48dd-f6e0-e8171a36ef74"
      },
      "execution_count": 35,
      "outputs": [
        {
          "output_type": "stream",
          "name": "stderr",
          "text": [
            "/usr/local/lib/python3.8/dist-packages/IPython/core/interactiveshell.py:3326: DtypeWarning: Columns (3) have mixed types.Specify dtype option on import or set low_memory=False.\n",
            "  exec(code_obj, self.user_global_ns, self.user_ns)\n"
          ]
        },
        {
          "output_type": "execute_result",
          "data": {
            "text/plain": [
              "   User-ID        ISBN  Book-Rating\n",
              "0   276725  034545104X            0\n",
              "1   276726  0155061224            5\n",
              "2   276727  0446520802            0\n",
              "3   276729  052165615X            3\n",
              "4   276729  0521795028            6"
            ],
            "text/html": [
              "\n",
              "  <div id=\"df-fcddee83-34ab-4c58-ba89-201c84830e15\">\n",
              "    <div class=\"colab-df-container\">\n",
              "      <div>\n",
              "<style scoped>\n",
              "    .dataframe tbody tr th:only-of-type {\n",
              "        vertical-align: middle;\n",
              "    }\n",
              "\n",
              "    .dataframe tbody tr th {\n",
              "        vertical-align: top;\n",
              "    }\n",
              "\n",
              "    .dataframe thead th {\n",
              "        text-align: right;\n",
              "    }\n",
              "</style>\n",
              "<table border=\"1\" class=\"dataframe\">\n",
              "  <thead>\n",
              "    <tr style=\"text-align: right;\">\n",
              "      <th></th>\n",
              "      <th>User-ID</th>\n",
              "      <th>ISBN</th>\n",
              "      <th>Book-Rating</th>\n",
              "    </tr>\n",
              "  </thead>\n",
              "  <tbody>\n",
              "    <tr>\n",
              "      <th>0</th>\n",
              "      <td>276725</td>\n",
              "      <td>034545104X</td>\n",
              "      <td>0</td>\n",
              "    </tr>\n",
              "    <tr>\n",
              "      <th>1</th>\n",
              "      <td>276726</td>\n",
              "      <td>0155061224</td>\n",
              "      <td>5</td>\n",
              "    </tr>\n",
              "    <tr>\n",
              "      <th>2</th>\n",
              "      <td>276727</td>\n",
              "      <td>0446520802</td>\n",
              "      <td>0</td>\n",
              "    </tr>\n",
              "    <tr>\n",
              "      <th>3</th>\n",
              "      <td>276729</td>\n",
              "      <td>052165615X</td>\n",
              "      <td>3</td>\n",
              "    </tr>\n",
              "    <tr>\n",
              "      <th>4</th>\n",
              "      <td>276729</td>\n",
              "      <td>0521795028</td>\n",
              "      <td>6</td>\n",
              "    </tr>\n",
              "  </tbody>\n",
              "</table>\n",
              "</div>\n",
              "      <button class=\"colab-df-convert\" onclick=\"convertToInteractive('df-fcddee83-34ab-4c58-ba89-201c84830e15')\"\n",
              "              title=\"Convert this dataframe to an interactive table.\"\n",
              "              style=\"display:none;\">\n",
              "        \n",
              "  <svg xmlns=\"http://www.w3.org/2000/svg\" height=\"24px\"viewBox=\"0 0 24 24\"\n",
              "       width=\"24px\">\n",
              "    <path d=\"M0 0h24v24H0V0z\" fill=\"none\"/>\n",
              "    <path d=\"M18.56 5.44l.94 2.06.94-2.06 2.06-.94-2.06-.94-.94-2.06-.94 2.06-2.06.94zm-11 1L8.5 8.5l.94-2.06 2.06-.94-2.06-.94L8.5 2.5l-.94 2.06-2.06.94zm10 10l.94 2.06.94-2.06 2.06-.94-2.06-.94-.94-2.06-.94 2.06-2.06.94z\"/><path d=\"M17.41 7.96l-1.37-1.37c-.4-.4-.92-.59-1.43-.59-.52 0-1.04.2-1.43.59L10.3 9.45l-7.72 7.72c-.78.78-.78 2.05 0 2.83L4 21.41c.39.39.9.59 1.41.59.51 0 1.02-.2 1.41-.59l7.78-7.78 2.81-2.81c.8-.78.8-2.07 0-2.86zM5.41 20L4 18.59l7.72-7.72 1.47 1.35L5.41 20z\"/>\n",
              "  </svg>\n",
              "      </button>\n",
              "      \n",
              "  <style>\n",
              "    .colab-df-container {\n",
              "      display:flex;\n",
              "      flex-wrap:wrap;\n",
              "      gap: 12px;\n",
              "    }\n",
              "\n",
              "    .colab-df-convert {\n",
              "      background-color: #E8F0FE;\n",
              "      border: none;\n",
              "      border-radius: 50%;\n",
              "      cursor: pointer;\n",
              "      display: none;\n",
              "      fill: #1967D2;\n",
              "      height: 32px;\n",
              "      padding: 0 0 0 0;\n",
              "      width: 32px;\n",
              "    }\n",
              "\n",
              "    .colab-df-convert:hover {\n",
              "      background-color: #E2EBFA;\n",
              "      box-shadow: 0px 1px 2px rgba(60, 64, 67, 0.3), 0px 1px 3px 1px rgba(60, 64, 67, 0.15);\n",
              "      fill: #174EA6;\n",
              "    }\n",
              "\n",
              "    [theme=dark] .colab-df-convert {\n",
              "      background-color: #3B4455;\n",
              "      fill: #D2E3FC;\n",
              "    }\n",
              "\n",
              "    [theme=dark] .colab-df-convert:hover {\n",
              "      background-color: #434B5C;\n",
              "      box-shadow: 0px 1px 3px 1px rgba(0, 0, 0, 0.15);\n",
              "      filter: drop-shadow(0px 1px 2px rgba(0, 0, 0, 0.3));\n",
              "      fill: #FFFFFF;\n",
              "    }\n",
              "  </style>\n",
              "\n",
              "      <script>\n",
              "        const buttonEl =\n",
              "          document.querySelector('#df-fcddee83-34ab-4c58-ba89-201c84830e15 button.colab-df-convert');\n",
              "        buttonEl.style.display =\n",
              "          google.colab.kernel.accessAllowed ? 'block' : 'none';\n",
              "\n",
              "        async function convertToInteractive(key) {\n",
              "          const element = document.querySelector('#df-fcddee83-34ab-4c58-ba89-201c84830e15');\n",
              "          const dataTable =\n",
              "            await google.colab.kernel.invokeFunction('convertToInteractive',\n",
              "                                                     [key], {});\n",
              "          if (!dataTable) return;\n",
              "\n",
              "          const docLinkHtml = 'Like what you see? Visit the ' +\n",
              "            '<a target=\"_blank\" href=https://colab.research.google.com/notebooks/data_table.ipynb>data table notebook</a>'\n",
              "            + ' to learn more about interactive tables.';\n",
              "          element.innerHTML = '';\n",
              "          dataTable['output_type'] = 'display_data';\n",
              "          await google.colab.output.renderOutput(dataTable, element);\n",
              "          const docLink = document.createElement('div');\n",
              "          docLink.innerHTML = docLinkHtml;\n",
              "          element.appendChild(docLink);\n",
              "        }\n",
              "      </script>\n",
              "    </div>\n",
              "  </div>\n",
              "  "
            ]
          },
          "metadata": {},
          "execution_count": 35
        }
      ]
    },
    {
      "cell_type": "markdown",
      "source": [
        "# Data Preprocessing"
      ],
      "metadata": {
        "id": "4N8oXCIv2wWY"
      }
    },
    {
      "cell_type": "code",
      "source": [
        "ratings_df = ratings_df.groupby('ISBN').filter(lambda x: len(x)>=100)\n",
        "ratings_df.head()"
      ],
      "metadata": {
        "colab": {
          "base_uri": "https://localhost:8080/",
          "height": 206
        },
        "id": "cqt45yJh2yf6",
        "outputId": "ad4f4028-98d4-41ff-9896-65f5a820dbb1"
      },
      "execution_count": 36,
      "outputs": [
        {
          "output_type": "execute_result",
          "data": {
            "text/plain": [
              "    User-ID        ISBN  Book-Rating\n",
              "2    276727  0446520802            0\n",
              "8    276744  038550120X            7\n",
              "10   276746  0425115801            0\n",
              "11   276746  0449006522            0\n",
              "12   276746  0553561618            0"
            ],
            "text/html": [
              "\n",
              "  <div id=\"df-8c16ab6e-aa5a-43e1-a952-c6b5e31a3158\">\n",
              "    <div class=\"colab-df-container\">\n",
              "      <div>\n",
              "<style scoped>\n",
              "    .dataframe tbody tr th:only-of-type {\n",
              "        vertical-align: middle;\n",
              "    }\n",
              "\n",
              "    .dataframe tbody tr th {\n",
              "        vertical-align: top;\n",
              "    }\n",
              "\n",
              "    .dataframe thead th {\n",
              "        text-align: right;\n",
              "    }\n",
              "</style>\n",
              "<table border=\"1\" class=\"dataframe\">\n",
              "  <thead>\n",
              "    <tr style=\"text-align: right;\">\n",
              "      <th></th>\n",
              "      <th>User-ID</th>\n",
              "      <th>ISBN</th>\n",
              "      <th>Book-Rating</th>\n",
              "    </tr>\n",
              "  </thead>\n",
              "  <tbody>\n",
              "    <tr>\n",
              "      <th>2</th>\n",
              "      <td>276727</td>\n",
              "      <td>0446520802</td>\n",
              "      <td>0</td>\n",
              "    </tr>\n",
              "    <tr>\n",
              "      <th>8</th>\n",
              "      <td>276744</td>\n",
              "      <td>038550120X</td>\n",
              "      <td>7</td>\n",
              "    </tr>\n",
              "    <tr>\n",
              "      <th>10</th>\n",
              "      <td>276746</td>\n",
              "      <td>0425115801</td>\n",
              "      <td>0</td>\n",
              "    </tr>\n",
              "    <tr>\n",
              "      <th>11</th>\n",
              "      <td>276746</td>\n",
              "      <td>0449006522</td>\n",
              "      <td>0</td>\n",
              "    </tr>\n",
              "    <tr>\n",
              "      <th>12</th>\n",
              "      <td>276746</td>\n",
              "      <td>0553561618</td>\n",
              "      <td>0</td>\n",
              "    </tr>\n",
              "  </tbody>\n",
              "</table>\n",
              "</div>\n",
              "      <button class=\"colab-df-convert\" onclick=\"convertToInteractive('df-8c16ab6e-aa5a-43e1-a952-c6b5e31a3158')\"\n",
              "              title=\"Convert this dataframe to an interactive table.\"\n",
              "              style=\"display:none;\">\n",
              "        \n",
              "  <svg xmlns=\"http://www.w3.org/2000/svg\" height=\"24px\"viewBox=\"0 0 24 24\"\n",
              "       width=\"24px\">\n",
              "    <path d=\"M0 0h24v24H0V0z\" fill=\"none\"/>\n",
              "    <path d=\"M18.56 5.44l.94 2.06.94-2.06 2.06-.94-2.06-.94-.94-2.06-.94 2.06-2.06.94zm-11 1L8.5 8.5l.94-2.06 2.06-.94-2.06-.94L8.5 2.5l-.94 2.06-2.06.94zm10 10l.94 2.06.94-2.06 2.06-.94-2.06-.94-.94-2.06-.94 2.06-2.06.94z\"/><path d=\"M17.41 7.96l-1.37-1.37c-.4-.4-.92-.59-1.43-.59-.52 0-1.04.2-1.43.59L10.3 9.45l-7.72 7.72c-.78.78-.78 2.05 0 2.83L4 21.41c.39.39.9.59 1.41.59.51 0 1.02-.2 1.41-.59l7.78-7.78 2.81-2.81c.8-.78.8-2.07 0-2.86zM5.41 20L4 18.59l7.72-7.72 1.47 1.35L5.41 20z\"/>\n",
              "  </svg>\n",
              "      </button>\n",
              "      \n",
              "  <style>\n",
              "    .colab-df-container {\n",
              "      display:flex;\n",
              "      flex-wrap:wrap;\n",
              "      gap: 12px;\n",
              "    }\n",
              "\n",
              "    .colab-df-convert {\n",
              "      background-color: #E8F0FE;\n",
              "      border: none;\n",
              "      border-radius: 50%;\n",
              "      cursor: pointer;\n",
              "      display: none;\n",
              "      fill: #1967D2;\n",
              "      height: 32px;\n",
              "      padding: 0 0 0 0;\n",
              "      width: 32px;\n",
              "    }\n",
              "\n",
              "    .colab-df-convert:hover {\n",
              "      background-color: #E2EBFA;\n",
              "      box-shadow: 0px 1px 2px rgba(60, 64, 67, 0.3), 0px 1px 3px 1px rgba(60, 64, 67, 0.15);\n",
              "      fill: #174EA6;\n",
              "    }\n",
              "\n",
              "    [theme=dark] .colab-df-convert {\n",
              "      background-color: #3B4455;\n",
              "      fill: #D2E3FC;\n",
              "    }\n",
              "\n",
              "    [theme=dark] .colab-df-convert:hover {\n",
              "      background-color: #434B5C;\n",
              "      box-shadow: 0px 1px 3px 1px rgba(0, 0, 0, 0.15);\n",
              "      filter: drop-shadow(0px 1px 2px rgba(0, 0, 0, 0.3));\n",
              "      fill: #FFFFFF;\n",
              "    }\n",
              "  </style>\n",
              "\n",
              "      <script>\n",
              "        const buttonEl =\n",
              "          document.querySelector('#df-8c16ab6e-aa5a-43e1-a952-c6b5e31a3158 button.colab-df-convert');\n",
              "        buttonEl.style.display =\n",
              "          google.colab.kernel.accessAllowed ? 'block' : 'none';\n",
              "\n",
              "        async function convertToInteractive(key) {\n",
              "          const element = document.querySelector('#df-8c16ab6e-aa5a-43e1-a952-c6b5e31a3158');\n",
              "          const dataTable =\n",
              "            await google.colab.kernel.invokeFunction('convertToInteractive',\n",
              "                                                     [key], {});\n",
              "          if (!dataTable) return;\n",
              "\n",
              "          const docLinkHtml = 'Like what you see? Visit the ' +\n",
              "            '<a target=\"_blank\" href=https://colab.research.google.com/notebooks/data_table.ipynb>data table notebook</a>'\n",
              "            + ' to learn more about interactive tables.';\n",
              "          element.innerHTML = '';\n",
              "          dataTable['output_type'] = 'display_data';\n",
              "          await google.colab.output.renderOutput(dataTable, element);\n",
              "          const docLink = document.createElement('div');\n",
              "          docLink.innerHTML = docLinkHtml;\n",
              "          element.appendChild(docLink);\n",
              "        }\n",
              "      </script>\n",
              "    </div>\n",
              "  </div>\n",
              "  "
            ]
          },
          "metadata": {},
          "execution_count": 36
        }
      ]
    },
    {
      "cell_type": "code",
      "source": [
        "ratings_df = ratings_df[ratings_df.groupby('User-ID').ISBN.transform('nunique')>=10]\n",
        "ratings_df"
      ],
      "metadata": {
        "colab": {
          "base_uri": "https://localhost:8080/",
          "height": 424
        },
        "id": "HAdzPGHA3CKQ",
        "outputId": "8a4a8488-2a7e-4747-9bd6-2e1825b62f93"
      },
      "execution_count": 37,
      "outputs": [
        {
          "output_type": "execute_result",
          "data": {
            "text/plain": [
              "         User-ID        ISBN  Book-Rating\n",
              "796       277042  0061097101            0\n",
              "799       277042  0312983271            0\n",
              "800       277042  0380731851            0\n",
              "801       277042  0446605484            7\n",
              "802       277042  0446611212            8\n",
              "...          ...         ...          ...\n",
              "1149553   276680  0446670251            0\n",
              "1149564   276680  0452283205            7\n",
              "1149577   276680  0679731725            0\n",
              "1149581   276680  0679781587            9\n",
              "1149592   276680  0743203631            7\n",
              "\n",
              "[80974 rows x 3 columns]"
            ],
            "text/html": [
              "\n",
              "  <div id=\"df-9f30fe6b-f6d3-473d-8997-d8119f1798e9\">\n",
              "    <div class=\"colab-df-container\">\n",
              "      <div>\n",
              "<style scoped>\n",
              "    .dataframe tbody tr th:only-of-type {\n",
              "        vertical-align: middle;\n",
              "    }\n",
              "\n",
              "    .dataframe tbody tr th {\n",
              "        vertical-align: top;\n",
              "    }\n",
              "\n",
              "    .dataframe thead th {\n",
              "        text-align: right;\n",
              "    }\n",
              "</style>\n",
              "<table border=\"1\" class=\"dataframe\">\n",
              "  <thead>\n",
              "    <tr style=\"text-align: right;\">\n",
              "      <th></th>\n",
              "      <th>User-ID</th>\n",
              "      <th>ISBN</th>\n",
              "      <th>Book-Rating</th>\n",
              "    </tr>\n",
              "  </thead>\n",
              "  <tbody>\n",
              "    <tr>\n",
              "      <th>796</th>\n",
              "      <td>277042</td>\n",
              "      <td>0061097101</td>\n",
              "      <td>0</td>\n",
              "    </tr>\n",
              "    <tr>\n",
              "      <th>799</th>\n",
              "      <td>277042</td>\n",
              "      <td>0312983271</td>\n",
              "      <td>0</td>\n",
              "    </tr>\n",
              "    <tr>\n",
              "      <th>800</th>\n",
              "      <td>277042</td>\n",
              "      <td>0380731851</td>\n",
              "      <td>0</td>\n",
              "    </tr>\n",
              "    <tr>\n",
              "      <th>801</th>\n",
              "      <td>277042</td>\n",
              "      <td>0446605484</td>\n",
              "      <td>7</td>\n",
              "    </tr>\n",
              "    <tr>\n",
              "      <th>802</th>\n",
              "      <td>277042</td>\n",
              "      <td>0446611212</td>\n",
              "      <td>8</td>\n",
              "    </tr>\n",
              "    <tr>\n",
              "      <th>...</th>\n",
              "      <td>...</td>\n",
              "      <td>...</td>\n",
              "      <td>...</td>\n",
              "    </tr>\n",
              "    <tr>\n",
              "      <th>1149553</th>\n",
              "      <td>276680</td>\n",
              "      <td>0446670251</td>\n",
              "      <td>0</td>\n",
              "    </tr>\n",
              "    <tr>\n",
              "      <th>1149564</th>\n",
              "      <td>276680</td>\n",
              "      <td>0452283205</td>\n",
              "      <td>7</td>\n",
              "    </tr>\n",
              "    <tr>\n",
              "      <th>1149577</th>\n",
              "      <td>276680</td>\n",
              "      <td>0679731725</td>\n",
              "      <td>0</td>\n",
              "    </tr>\n",
              "    <tr>\n",
              "      <th>1149581</th>\n",
              "      <td>276680</td>\n",
              "      <td>0679781587</td>\n",
              "      <td>9</td>\n",
              "    </tr>\n",
              "    <tr>\n",
              "      <th>1149592</th>\n",
              "      <td>276680</td>\n",
              "      <td>0743203631</td>\n",
              "      <td>7</td>\n",
              "    </tr>\n",
              "  </tbody>\n",
              "</table>\n",
              "<p>80974 rows × 3 columns</p>\n",
              "</div>\n",
              "      <button class=\"colab-df-convert\" onclick=\"convertToInteractive('df-9f30fe6b-f6d3-473d-8997-d8119f1798e9')\"\n",
              "              title=\"Convert this dataframe to an interactive table.\"\n",
              "              style=\"display:none;\">\n",
              "        \n",
              "  <svg xmlns=\"http://www.w3.org/2000/svg\" height=\"24px\"viewBox=\"0 0 24 24\"\n",
              "       width=\"24px\">\n",
              "    <path d=\"M0 0h24v24H0V0z\" fill=\"none\"/>\n",
              "    <path d=\"M18.56 5.44l.94 2.06.94-2.06 2.06-.94-2.06-.94-.94-2.06-.94 2.06-2.06.94zm-11 1L8.5 8.5l.94-2.06 2.06-.94-2.06-.94L8.5 2.5l-.94 2.06-2.06.94zm10 10l.94 2.06.94-2.06 2.06-.94-2.06-.94-.94-2.06-.94 2.06-2.06.94z\"/><path d=\"M17.41 7.96l-1.37-1.37c-.4-.4-.92-.59-1.43-.59-.52 0-1.04.2-1.43.59L10.3 9.45l-7.72 7.72c-.78.78-.78 2.05 0 2.83L4 21.41c.39.39.9.59 1.41.59.51 0 1.02-.2 1.41-.59l7.78-7.78 2.81-2.81c.8-.78.8-2.07 0-2.86zM5.41 20L4 18.59l7.72-7.72 1.47 1.35L5.41 20z\"/>\n",
              "  </svg>\n",
              "      </button>\n",
              "      \n",
              "  <style>\n",
              "    .colab-df-container {\n",
              "      display:flex;\n",
              "      flex-wrap:wrap;\n",
              "      gap: 12px;\n",
              "    }\n",
              "\n",
              "    .colab-df-convert {\n",
              "      background-color: #E8F0FE;\n",
              "      border: none;\n",
              "      border-radius: 50%;\n",
              "      cursor: pointer;\n",
              "      display: none;\n",
              "      fill: #1967D2;\n",
              "      height: 32px;\n",
              "      padding: 0 0 0 0;\n",
              "      width: 32px;\n",
              "    }\n",
              "\n",
              "    .colab-df-convert:hover {\n",
              "      background-color: #E2EBFA;\n",
              "      box-shadow: 0px 1px 2px rgba(60, 64, 67, 0.3), 0px 1px 3px 1px rgba(60, 64, 67, 0.15);\n",
              "      fill: #174EA6;\n",
              "    }\n",
              "\n",
              "    [theme=dark] .colab-df-convert {\n",
              "      background-color: #3B4455;\n",
              "      fill: #D2E3FC;\n",
              "    }\n",
              "\n",
              "    [theme=dark] .colab-df-convert:hover {\n",
              "      background-color: #434B5C;\n",
              "      box-shadow: 0px 1px 3px 1px rgba(0, 0, 0, 0.15);\n",
              "      filter: drop-shadow(0px 1px 2px rgba(0, 0, 0, 0.3));\n",
              "      fill: #FFFFFF;\n",
              "    }\n",
              "  </style>\n",
              "\n",
              "      <script>\n",
              "        const buttonEl =\n",
              "          document.querySelector('#df-9f30fe6b-f6d3-473d-8997-d8119f1798e9 button.colab-df-convert');\n",
              "        buttonEl.style.display =\n",
              "          google.colab.kernel.accessAllowed ? 'block' : 'none';\n",
              "\n",
              "        async function convertToInteractive(key) {\n",
              "          const element = document.querySelector('#df-9f30fe6b-f6d3-473d-8997-d8119f1798e9');\n",
              "          const dataTable =\n",
              "            await google.colab.kernel.invokeFunction('convertToInteractive',\n",
              "                                                     [key], {});\n",
              "          if (!dataTable) return;\n",
              "\n",
              "          const docLinkHtml = 'Like what you see? Visit the ' +\n",
              "            '<a target=\"_blank\" href=https://colab.research.google.com/notebooks/data_table.ipynb>data table notebook</a>'\n",
              "            + ' to learn more about interactive tables.';\n",
              "          element.innerHTML = '';\n",
              "          dataTable['output_type'] = 'display_data';\n",
              "          await google.colab.output.renderOutput(dataTable, element);\n",
              "          const docLink = document.createElement('div');\n",
              "          docLink.innerHTML = docLinkHtml;\n",
              "          element.appendChild(docLink);\n",
              "        }\n",
              "      </script>\n",
              "    </div>\n",
              "  </div>\n",
              "  "
            ]
          },
          "metadata": {},
          "execution_count": 37
        }
      ]
    },
    {
      "cell_type": "markdown",
      "source": [
        "# Model Input"
      ],
      "metadata": {
        "id": "CXHUDsCi3dkp"
      }
    },
    {
      "cell_type": "code",
      "source": [
        "userInput = [{'Book-Title':'Mog\\'s Christmas', 'Book-Rating':6},\n",
        "             {'Book-Title':'Brave New World', 'Book-Rating':9},\n",
        "             {'Book-Title':'Autumn Story Brambly Hedge', 'Book-Rating':1},\n",
        "             {'Book-Title':'Life of Pi', 'Book-Rating':9.5},\n",
        "             {'Book-Title':'THE COAL HOUSE T/PB', 'Book-Rating':7}]\n",
        "inputBooks = pd.DataFrame(userInput)\n",
        "print(inputBooks)"
      ],
      "metadata": {
        "colab": {
          "base_uri": "https://localhost:8080/"
        },
        "id": "RbnFEEwUpZ0e",
        "outputId": "b936791a-3ca6-414e-96a3-3f33e5b13dff"
      },
      "execution_count": 61,
      "outputs": [
        {
          "output_type": "stream",
          "name": "stdout",
          "text": [
            "                   Book-Title  Book-Rating\n",
            "0             Mog's Christmas          6.0\n",
            "1             Brave New World          9.0\n",
            "2  Autumn Story Brambly Hedge          1.0\n",
            "3                  Life of Pi          9.5\n",
            "4         THE COAL HOUSE T/PB          7.0\n"
          ]
        }
      ]
    },
    {
      "cell_type": "code",
      "source": [
        "inputId = books_df[books_df['Book-Title'].isin(inputBooks['Book-Title'].tolist())]\n",
        "inputBooks = pd.merge(inputId, inputBooks)\n",
        "inputBooks = inputBooks.drop('Year-Of-Publication', 1) #we don't really need this at the moment\n",
        "inputBooks = inputBooks[['ISBN','Book-Title','Book-Rating']]\n",
        "print(inputBooks)"
      ],
      "metadata": {
        "colab": {
          "base_uri": "https://localhost:8080/"
        },
        "id": "864LcNR_pcAm",
        "outputId": "4aa585ce-9095-4189-cea9-62dfa0a25968"
      },
      "execution_count": 62,
      "outputs": [
        {
          "output_type": "stream",
          "name": "stdout",
          "text": [
            "          ISBN                  Book-Title  Book-Rating\n",
            "0   0151008116                  Life of Pi          9.5\n",
            "1   0156027321                  Life of Pi          9.5\n",
            "2   1565117794                  Life of Pi          9.5\n",
            "3   184195425X                  Life of Pi          9.5\n",
            "4   0060809833             Brave New World          9.0\n",
            "5   0060929871             Brave New World          9.0\n",
            "6   0001047973             Brave New World          9.0\n",
            "7   0060830956             Brave New World          9.0\n",
            "8   0582060168             Brave New World          9.0\n",
            "9   0001848445         THE COAL HOUSE T/PB          7.0\n",
            "10  0001837397  Autumn Story Brambly Hedge          1.0\n",
            "11  0001010565             Mog's Christmas          6.0\n"
          ]
        },
        {
          "output_type": "stream",
          "name": "stderr",
          "text": [
            "<ipython-input-62-334d5373b0d7>:3: FutureWarning: In a future version of pandas all arguments of DataFrame.drop except for the argument 'labels' will be keyword-only\n",
            "  inputBooks = inputBooks.drop('Year-Of-Publication', 1) #we don't really need this at the moment\n"
          ]
        }
      ]
    },
    {
      "cell_type": "code",
      "source": [
        "userSubset = ratings_df[ratings_df['ISBN'].isin(inputBooks['ISBN'].tolist())]\n",
        "print(userSubset.groupby('ISBN').count())"
      ],
      "metadata": {
        "colab": {
          "base_uri": "https://localhost:8080/"
        },
        "id": "gQ5KFK1Cpdq1",
        "outputId": "96ddfcf4-5807-409f-f637-7e6f53028008"
      },
      "execution_count": 63,
      "outputs": [
        {
          "output_type": "stream",
          "name": "stdout",
          "text": [
            "            User-ID  Book-Rating\n",
            "ISBN                            \n",
            "0060929871       63           63\n",
            "0151008116       89           89\n",
            "0156027321      240          240\n"
          ]
        }
      ]
    },
    {
      "cell_type": "code",
      "source": [
        "#Groupby creates several sub dataframes where they all have the same value in the column specified as the parameter\n",
        "userSubsetGroup = userSubset.groupby(['User-ID'])\n",
        "\n",
        "def take_5_elem(x):\n",
        "    # print (len(x[1]))\n",
        "    return len(x[1])\n",
        "    \n",
        "\n",
        "#Sorting it so users with movie most in common with the input will have priority\n",
        "userSubsetGroup = sorted(userSubsetGroup, key=take_5_elem, reverse=True)\n",
        "\n",
        "userSubsetGroup = userSubsetGroup[0:100]\n",
        "print(userSubsetGroup[0:5])"
      ],
      "metadata": {
        "colab": {
          "base_uri": "https://localhost:8080/"
        },
        "id": "rXDHhlVupfHP",
        "outputId": "d2a69e19-9bca-4712-d379-8909e7166d0d"
      },
      "execution_count": 64,
      "outputs": [
        {
          "output_type": "stream",
          "name": "stdout",
          "text": [
            "[(89602,         User-ID        ISBN  Book-Rating\n",
            "373179    89602  0060929871            0\n",
            "373240    89602  0151008116            0\n",
            "373246    89602  0156027321            0), (4017,        User-ID        ISBN  Book-Rating\n",
            "20763     4017  0060929871            9\n",
            "20784     4017  0156027321            0), (11676,        User-ID        ISBN  Book-Rating\n",
            "46638    11676  0151008116            6\n",
            "46678    11676  0156027321            6), (23768,         User-ID        ISBN  Book-Rating\n",
            "101262    23768  0060929871            8\n",
            "101377    23768  0156027321            0), (36606,         User-ID        ISBN  Book-Rating\n",
            "165095    36606  0060929871            0\n",
            "165206    36606  0156027321            0)]\n"
          ]
        }
      ]
    },
    {
      "cell_type": "code",
      "source": [
        "#Store the Pearson Correlation in a dictionary, where the key is the user Id and the value is the coefficient\n",
        "pearsonCorrelationDict = {}\n",
        "\n",
        "#For every user group in our subset\n",
        "for name, group in userSubsetGroup:\n",
        "\n",
        "    #Let's start by sorting the input and current user group so the values aren't mixed up later on\n",
        "    group = group.sort_values(by='ISBN')\n",
        "    inputBooks = inputBooks.sort_values(by='ISBN')\n",
        "\n",
        "    #Get the N for the formula\n",
        "    nRatings = len(group)\n",
        "\n",
        "    #Get the review scores for the movies that they both have in common\n",
        "    temp_df = inputBooks[inputBooks['ISBN'].isin(group['ISBN'].tolist())]\n",
        "\n",
        "    #And then store them in a temporary buffer variable in a list format to facilitate future calculations\n",
        "    tempRatingList = temp_df['Book-Rating'].tolist()\n",
        "   \n",
        "    #Let's also put the current user group reviews in a list format\n",
        "    tempGroupList = group['Book-Rating'].tolist()\n",
        "   \n",
        "    \n",
        "    #Now let's calculate the pearson correlation between two users, so called, x and y manually (check the formula from week 7 slide)\n",
        "    Sxx = sum([i**2 for i in tempRatingList]) - pow(sum(tempRatingList),2)/float(nRatings)\n",
        "    Syy = sum([i**2 for i in tempGroupList]) - pow(sum(tempGroupList),2)/float(nRatings)\n",
        "    Sxy = sum( i*j for i, j in zip(tempRatingList, tempGroupList)) - sum(tempRatingList)*sum(tempGroupList)/float(nRatings)\n",
        "\n",
        "    #If the denominator is different than zero, then divide, else, 0 correlation.\n",
        "    if Sxx != 0 and Syy != 0:\n",
        "        pearsonCorrelationDict[name] = Sxy/sqrt(Sxx*Syy)\n",
        "    else:\n",
        "        pearsonCorrelationDict[name] = 0"
      ],
      "metadata": {
        "id": "wVYFKqNWpg0A"
      },
      "execution_count": 65,
      "outputs": []
    },
    {
      "cell_type": "code",
      "source": [
        "pearsonDF = pd.DataFrame.from_dict(pearsonCorrelationDict, orient='index')\n",
        "pearsonDF.columns = ['similarityIndex']\n",
        "pearsonDF['User-ID'] = pearsonDF.index\n",
        "pearsonDF.index = range(len(pearsonDF))\n",
        "print(pearsonDF.head())"
      ],
      "metadata": {
        "colab": {
          "base_uri": "https://localhost:8080/"
        },
        "id": "p6uMW5tPpjHs",
        "outputId": "f93fa8c1-aa5a-402b-bd7c-41571412815b"
      },
      "execution_count": 66,
      "outputs": [
        {
          "output_type": "stream",
          "name": "stdout",
          "text": [
            "   similarityIndex  User-ID\n",
            "0              0.0    89602\n",
            "1             -1.0     4017\n",
            "2              0.0    11676\n",
            "3             -1.0    23768\n",
            "4              0.0    36606\n"
          ]
        }
      ]
    },
    {
      "cell_type": "code",
      "source": [
        "topUsers=pearsonDF.sort_values(by='similarityIndex', ascending=False)[0:50]\n",
        "print(topUsers.head())"
      ],
      "metadata": {
        "colab": {
          "base_uri": "https://localhost:8080/"
        },
        "id": "c6NJKhy9plC1",
        "outputId": "9ac6df94-5230-4e83-a1e6-1b5ba8f3c86a"
      },
      "execution_count": 67,
      "outputs": [
        {
          "output_type": "stream",
          "name": "stdout",
          "text": [
            "    similarityIndex  User-ID\n",
            "8               1.0    48046\n",
            "10              1.0    69971\n",
            "5               1.0    39467\n",
            "12              1.0    80538\n",
            "7               1.0    46398\n"
          ]
        }
      ]
    },
    {
      "cell_type": "code",
      "source": [
        "topUsersRating=topUsers.merge(ratings_df, left_on='User-ID', right_on='User-ID', how='inner')\n",
        "print(topUsersRating.head(100))"
      ],
      "metadata": {
        "colab": {
          "base_uri": "https://localhost:8080/"
        },
        "id": "DzqcJEZQpm6J",
        "outputId": "260f919c-2b20-42cc-a113-2924c1770938"
      },
      "execution_count": 68,
      "outputs": [
        {
          "output_type": "stream",
          "name": "stdout",
          "text": [
            "    similarityIndex  User-ID        ISBN  Book-Rating\n",
            "0               1.0    48046  0060199652           10\n",
            "1               1.0    48046  0060391626           10\n",
            "2               1.0    48046  0060915544            0\n",
            "3               1.0    48046  0060922532            0\n",
            "4               1.0    48046  0060929871            0\n",
            "..              ...      ...         ...          ...\n",
            "95              1.0    69971  0525947647            9\n",
            "96              1.0    69971  0553208845            0\n",
            "97              1.0    69971  0553273914            0\n",
            "98              1.0    69971  0553582747            0\n",
            "99              1.0    69971  0671021001            0\n",
            "\n",
            "[100 rows x 4 columns]\n"
          ]
        }
      ]
    },
    {
      "cell_type": "code",
      "source": [
        "#Multiplies the similarity by the user’s ratings\n",
        "topUsersRating['weightedRating'] = topUsersRating['similarityIndex']*topUsersRating['Book-Rating']\n",
        "print(topUsersRating.head())"
      ],
      "metadata": {
        "colab": {
          "base_uri": "https://localhost:8080/"
        },
        "id": "JS-iCQAwpomG",
        "outputId": "8c45af7d-9b46-43d5-a692-d05bcd43b56f"
      },
      "execution_count": 69,
      "outputs": [
        {
          "output_type": "stream",
          "name": "stdout",
          "text": [
            "   similarityIndex  User-ID        ISBN  Book-Rating  weightedRating\n",
            "0              1.0    48046  0060199652           10            10.0\n",
            "1              1.0    48046  0060391626           10            10.0\n",
            "2              1.0    48046  0060915544            0             0.0\n",
            "3              1.0    48046  0060922532            0             0.0\n",
            "4              1.0    48046  0060929871            0             0.0\n"
          ]
        }
      ]
    },
    {
      "cell_type": "code",
      "source": [
        "#Applies a sum to the topUsers after grouping it up by movieId\n",
        "tempTopUsersRating = topUsersRating.groupby('ISBN').sum()[['similarityIndex','weightedRating']]\n",
        "tempTopUsersRating.columns = ['sum_similarityIndex','sum_weightedRating']\n",
        "print(tempTopUsersRating.head())"
      ],
      "metadata": {
        "colab": {
          "base_uri": "https://localhost:8080/"
        },
        "id": "6F9h7MTDpqTz",
        "outputId": "5b880df1-1ab6-41be-e9f0-ba99df7d3b00"
      },
      "execution_count": 70,
      "outputs": [
        {
          "output_type": "stream",
          "name": "stdout",
          "text": [
            "            sum_similarityIndex  sum_weightedRating\n",
            "ISBN                                               \n",
            "002542730X                  1.0                 7.0\n",
            "0060008032                  0.0                 0.0\n",
            "0060096195                  0.0                 0.0\n",
            "006016848X                  1.0                 0.0\n",
            "0060173289                  0.0                 0.0\n"
          ]
        }
      ]
    },
    {
      "cell_type": "code",
      "source": [
        "#Creates an empty dataframe\n",
        "recommendation_df = pd.DataFrame()\n",
        "\n",
        "#Now we take the weighted average\n",
        "recommendation_df['weighted average recommendation score'] = tempTopUsersRating['sum_weightedRating']/tempTopUsersRating['sum_similarityIndex']\n",
        "recommendation_df['ISBN'] = tempTopUsersRating.index\n",
        "print(recommendation_df.head(10))"
      ],
      "metadata": {
        "colab": {
          "base_uri": "https://localhost:8080/"
        },
        "id": "cl109Scmpr-f",
        "outputId": "c827446e-fb41-483c-9176-c869b43fff75"
      },
      "execution_count": 71,
      "outputs": [
        {
          "output_type": "stream",
          "name": "stdout",
          "text": [
            "            weighted average recommendation score        ISBN\n",
            "ISBN                                                         \n",
            "002542730X                                    7.0  002542730X\n",
            "0060008032                                    NaN  0060008032\n",
            "0060096195                                    NaN  0060096195\n",
            "006016848X                                    0.0  006016848X\n",
            "0060173289                                    NaN  0060173289\n",
            "0060175400                                    NaN  0060175400\n",
            "006019491X                                    NaN  006019491X\n",
            "0060199652                                   10.0  0060199652\n",
            "0060391626                                   10.0  0060391626\n",
            "0060392452                                    NaN  0060392452\n"
          ]
        }
      ]
    },
    {
      "cell_type": "code",
      "source": [
        "recommendation_df = recommendation_df.sort_values(by='weighted average recommendation score', ascending=False)\n",
        "print(recommendation_df)"
      ],
      "metadata": {
        "colab": {
          "base_uri": "https://localhost:8080/"
        },
        "id": "Ra3UVmJWptyS",
        "outputId": "9e7bae2e-eed3-4928-d4cb-f41eddae58af"
      },
      "execution_count": 72,
      "outputs": [
        {
          "output_type": "stream",
          "name": "stdout",
          "text": [
            "            weighted average recommendation score        ISBN\n",
            "ISBN                                                         \n",
            "0451524934                                   10.0  0451524934\n",
            "080410753X                                   10.0  080410753X\n",
            "0345413350                                   10.0  0345413350\n",
            "0312243022                                   10.0  0312243022\n",
            "076790592X                                   10.0  076790592X\n",
            "...                                           ...         ...\n",
            "1558744150                                    NaN  1558744150\n",
            "1559029838                                    NaN  1559029838\n",
            "1573227331                                    NaN  1573227331\n",
            "1573229571                                    NaN  1573229571\n",
            "1592400876                                    NaN  1592400876\n",
            "\n",
            "[704 rows x 2 columns]\n"
          ]
        }
      ]
    },
    {
      "cell_type": "code",
      "source": [
        "recommended_movie=books_df.loc[books_df['ISBN'].isin(recommendation_df['ISBN'])]\n",
        "\n",
        "#we don't want to recommend the same movie\n",
        "recommended_movie=recommended_movie.loc[~recommended_movie.ISBN.isin(userSubset['ISBN'])]\n",
        "\n",
        "recommended_movie.head()"
      ],
      "metadata": {
        "colab": {
          "base_uri": "https://localhost:8080/",
          "height": 409
        },
        "id": "KsYwpu3Kpvea",
        "outputId": "3ef6d000-cc6e-4686-e3ad-227dda5dbf4a"
      },
      "execution_count": 74,
      "outputs": [
        {
          "output_type": "execute_result",
          "data": {
            "text/plain": [
              "          ISBN                            Book-Title       Book-Author  \\\n",
              "18  0440234743                         The Testament      John Grisham   \n",
              "19  0452264464  Beloved (Plume Contemporary Fiction)     Toni Morrison   \n",
              "26  0971880107                           Wild Animus      Rich Shapero   \n",
              "27  0345402871                              Airframe  Michael Crichton   \n",
              "28  0345417623                              Timeline  MICHAEL CRICHTON   \n",
              "\n",
              "   Year-Of-Publication         Publisher  \\\n",
              "18                1999              Dell   \n",
              "19                1994             Plume   \n",
              "26                2004           Too Far   \n",
              "27                1997  Ballantine Books   \n",
              "28                2000  Ballantine Books   \n",
              "\n",
              "                                          Image-URL-S  \\\n",
              "18  http://images.amazon.com/images/P/0440234743.0...   \n",
              "19  http://images.amazon.com/images/P/0452264464.0...   \n",
              "26  http://images.amazon.com/images/P/0971880107.0...   \n",
              "27  http://images.amazon.com/images/P/0345402871.0...   \n",
              "28  http://images.amazon.com/images/P/0345417623.0...   \n",
              "\n",
              "                                          Image-URL-M  \\\n",
              "18  http://images.amazon.com/images/P/0440234743.0...   \n",
              "19  http://images.amazon.com/images/P/0452264464.0...   \n",
              "26  http://images.amazon.com/images/P/0971880107.0...   \n",
              "27  http://images.amazon.com/images/P/0345402871.0...   \n",
              "28  http://images.amazon.com/images/P/0345417623.0...   \n",
              "\n",
              "                                          Image-URL-L  \n",
              "18  http://images.amazon.com/images/P/0440234743.0...  \n",
              "19  http://images.amazon.com/images/P/0452264464.0...  \n",
              "26  http://images.amazon.com/images/P/0971880107.0...  \n",
              "27  http://images.amazon.com/images/P/0345402871.0...  \n",
              "28  http://images.amazon.com/images/P/0345417623.0...  "
            ],
            "text/html": [
              "\n",
              "  <div id=\"df-71774edf-bff6-4404-8c88-a25f11048f47\">\n",
              "    <div class=\"colab-df-container\">\n",
              "      <div>\n",
              "<style scoped>\n",
              "    .dataframe tbody tr th:only-of-type {\n",
              "        vertical-align: middle;\n",
              "    }\n",
              "\n",
              "    .dataframe tbody tr th {\n",
              "        vertical-align: top;\n",
              "    }\n",
              "\n",
              "    .dataframe thead th {\n",
              "        text-align: right;\n",
              "    }\n",
              "</style>\n",
              "<table border=\"1\" class=\"dataframe\">\n",
              "  <thead>\n",
              "    <tr style=\"text-align: right;\">\n",
              "      <th></th>\n",
              "      <th>ISBN</th>\n",
              "      <th>Book-Title</th>\n",
              "      <th>Book-Author</th>\n",
              "      <th>Year-Of-Publication</th>\n",
              "      <th>Publisher</th>\n",
              "      <th>Image-URL-S</th>\n",
              "      <th>Image-URL-M</th>\n",
              "      <th>Image-URL-L</th>\n",
              "    </tr>\n",
              "  </thead>\n",
              "  <tbody>\n",
              "    <tr>\n",
              "      <th>18</th>\n",
              "      <td>0440234743</td>\n",
              "      <td>The Testament</td>\n",
              "      <td>John Grisham</td>\n",
              "      <td>1999</td>\n",
              "      <td>Dell</td>\n",
              "      <td>http://images.amazon.com/images/P/0440234743.0...</td>\n",
              "      <td>http://images.amazon.com/images/P/0440234743.0...</td>\n",
              "      <td>http://images.amazon.com/images/P/0440234743.0...</td>\n",
              "    </tr>\n",
              "    <tr>\n",
              "      <th>19</th>\n",
              "      <td>0452264464</td>\n",
              "      <td>Beloved (Plume Contemporary Fiction)</td>\n",
              "      <td>Toni Morrison</td>\n",
              "      <td>1994</td>\n",
              "      <td>Plume</td>\n",
              "      <td>http://images.amazon.com/images/P/0452264464.0...</td>\n",
              "      <td>http://images.amazon.com/images/P/0452264464.0...</td>\n",
              "      <td>http://images.amazon.com/images/P/0452264464.0...</td>\n",
              "    </tr>\n",
              "    <tr>\n",
              "      <th>26</th>\n",
              "      <td>0971880107</td>\n",
              "      <td>Wild Animus</td>\n",
              "      <td>Rich Shapero</td>\n",
              "      <td>2004</td>\n",
              "      <td>Too Far</td>\n",
              "      <td>http://images.amazon.com/images/P/0971880107.0...</td>\n",
              "      <td>http://images.amazon.com/images/P/0971880107.0...</td>\n",
              "      <td>http://images.amazon.com/images/P/0971880107.0...</td>\n",
              "    </tr>\n",
              "    <tr>\n",
              "      <th>27</th>\n",
              "      <td>0345402871</td>\n",
              "      <td>Airframe</td>\n",
              "      <td>Michael Crichton</td>\n",
              "      <td>1997</td>\n",
              "      <td>Ballantine Books</td>\n",
              "      <td>http://images.amazon.com/images/P/0345402871.0...</td>\n",
              "      <td>http://images.amazon.com/images/P/0345402871.0...</td>\n",
              "      <td>http://images.amazon.com/images/P/0345402871.0...</td>\n",
              "    </tr>\n",
              "    <tr>\n",
              "      <th>28</th>\n",
              "      <td>0345417623</td>\n",
              "      <td>Timeline</td>\n",
              "      <td>MICHAEL CRICHTON</td>\n",
              "      <td>2000</td>\n",
              "      <td>Ballantine Books</td>\n",
              "      <td>http://images.amazon.com/images/P/0345417623.0...</td>\n",
              "      <td>http://images.amazon.com/images/P/0345417623.0...</td>\n",
              "      <td>http://images.amazon.com/images/P/0345417623.0...</td>\n",
              "    </tr>\n",
              "  </tbody>\n",
              "</table>\n",
              "</div>\n",
              "      <button class=\"colab-df-convert\" onclick=\"convertToInteractive('df-71774edf-bff6-4404-8c88-a25f11048f47')\"\n",
              "              title=\"Convert this dataframe to an interactive table.\"\n",
              "              style=\"display:none;\">\n",
              "        \n",
              "  <svg xmlns=\"http://www.w3.org/2000/svg\" height=\"24px\"viewBox=\"0 0 24 24\"\n",
              "       width=\"24px\">\n",
              "    <path d=\"M0 0h24v24H0V0z\" fill=\"none\"/>\n",
              "    <path d=\"M18.56 5.44l.94 2.06.94-2.06 2.06-.94-2.06-.94-.94-2.06-.94 2.06-2.06.94zm-11 1L8.5 8.5l.94-2.06 2.06-.94-2.06-.94L8.5 2.5l-.94 2.06-2.06.94zm10 10l.94 2.06.94-2.06 2.06-.94-2.06-.94-.94-2.06-.94 2.06-2.06.94z\"/><path d=\"M17.41 7.96l-1.37-1.37c-.4-.4-.92-.59-1.43-.59-.52 0-1.04.2-1.43.59L10.3 9.45l-7.72 7.72c-.78.78-.78 2.05 0 2.83L4 21.41c.39.39.9.59 1.41.59.51 0 1.02-.2 1.41-.59l7.78-7.78 2.81-2.81c.8-.78.8-2.07 0-2.86zM5.41 20L4 18.59l7.72-7.72 1.47 1.35L5.41 20z\"/>\n",
              "  </svg>\n",
              "      </button>\n",
              "      \n",
              "  <style>\n",
              "    .colab-df-container {\n",
              "      display:flex;\n",
              "      flex-wrap:wrap;\n",
              "      gap: 12px;\n",
              "    }\n",
              "\n",
              "    .colab-df-convert {\n",
              "      background-color: #E8F0FE;\n",
              "      border: none;\n",
              "      border-radius: 50%;\n",
              "      cursor: pointer;\n",
              "      display: none;\n",
              "      fill: #1967D2;\n",
              "      height: 32px;\n",
              "      padding: 0 0 0 0;\n",
              "      width: 32px;\n",
              "    }\n",
              "\n",
              "    .colab-df-convert:hover {\n",
              "      background-color: #E2EBFA;\n",
              "      box-shadow: 0px 1px 2px rgba(60, 64, 67, 0.3), 0px 1px 3px 1px rgba(60, 64, 67, 0.15);\n",
              "      fill: #174EA6;\n",
              "    }\n",
              "\n",
              "    [theme=dark] .colab-df-convert {\n",
              "      background-color: #3B4455;\n",
              "      fill: #D2E3FC;\n",
              "    }\n",
              "\n",
              "    [theme=dark] .colab-df-convert:hover {\n",
              "      background-color: #434B5C;\n",
              "      box-shadow: 0px 1px 3px 1px rgba(0, 0, 0, 0.15);\n",
              "      filter: drop-shadow(0px 1px 2px rgba(0, 0, 0, 0.3));\n",
              "      fill: #FFFFFF;\n",
              "    }\n",
              "  </style>\n",
              "\n",
              "      <script>\n",
              "        const buttonEl =\n",
              "          document.querySelector('#df-71774edf-bff6-4404-8c88-a25f11048f47 button.colab-df-convert');\n",
              "        buttonEl.style.display =\n",
              "          google.colab.kernel.accessAllowed ? 'block' : 'none';\n",
              "\n",
              "        async function convertToInteractive(key) {\n",
              "          const element = document.querySelector('#df-71774edf-bff6-4404-8c88-a25f11048f47');\n",
              "          const dataTable =\n",
              "            await google.colab.kernel.invokeFunction('convertToInteractive',\n",
              "                                                     [key], {});\n",
              "          if (!dataTable) return;\n",
              "\n",
              "          const docLinkHtml = 'Like what you see? Visit the ' +\n",
              "            '<a target=\"_blank\" href=https://colab.research.google.com/notebooks/data_table.ipynb>data table notebook</a>'\n",
              "            + ' to learn more about interactive tables.';\n",
              "          element.innerHTML = '';\n",
              "          dataTable['output_type'] = 'display_data';\n",
              "          await google.colab.output.renderOutput(dataTable, element);\n",
              "          const docLink = document.createElement('div');\n",
              "          docLink.innerHTML = docLinkHtml;\n",
              "          element.appendChild(docLink);\n",
              "        }\n",
              "      </script>\n",
              "    </div>\n",
              "  </div>\n",
              "  "
            ]
          },
          "metadata": {},
          "execution_count": 74
        }
      ]
    }
  ]
}